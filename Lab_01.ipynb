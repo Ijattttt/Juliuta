{
  "cells": [
    {
      "cell_type": "markdown",
      "metadata": {
        "id": "view-in-github",
        "colab_type": "text"
      },
      "source": [
        "<a href=\"https://colab.research.google.com/github/Ijattttt/Juliuta/blob/main/Lab_01.ipynb\" target=\"_parent\"><img src=\"https://colab.research.google.com/assets/colab-badge.svg\" alt=\"Open In Colab\"/></a>"
      ]
    },
    {
      "cell_type": "code",
      "execution_count": null,
      "id": "sonic-luxury",
      "metadata": {
        "id": "sonic-luxury"
      },
      "outputs": [],
      "source": [
        "import os, pandas, absl.logging, warnings, tempfile, urllib, zipfile\n",
        "\n",
        "import tensorflow as tf\n",
        "\n",
        "absl.logging.set_verbosity(absl.logging.ERROR)\n",
        "\n",
        "warnings.filterwarnings('ignore')\n",
        "\n",
        "tf.get_logger().setLevel('ERROR')"
      ]
    },
    {
      "cell_type": "code",
      "execution_count": null,
      "id": "australian-truck",
      "metadata": {
        "id": "australian-truck",
        "outputId": "f632638e-dda1-46f1-86d1-d2c9411111a0"
      },
      "outputs": [
        {
          "data": {
            "text/plain": [
              "0"
            ]
          },
          "execution_count": 2,
          "metadata": {},
          "output_type": "execute_result"
        }
      ],
      "source": [
        "dataurl = 'data/diabetic_data.csv'\n",
        "\n",
        "data = pandas.read_table(dataurl, sep=',')\n",
        "\n",
        "data.isnull().sum().sum()"
      ]
    },
    {
      "cell_type": "code",
      "execution_count": null,
      "id": "lyric-edward",
      "metadata": {
        "id": "lyric-edward",
        "outputId": "3c72d7c8-2f08-4eac-ad90-7657eb0369bf"
      },
      "outputs": [
        {
          "data": {
            "text/html": [
              "<div>\n",
              "<style scoped>\n",
              "    .dataframe tbody tr th:only-of-type {\n",
              "        vertical-align: middle;\n",
              "    }\n",
              "\n",
              "    .dataframe tbody tr th {\n",
              "        vertical-align: top;\n",
              "    }\n",
              "\n",
              "    .dataframe thead th {\n",
              "        text-align: right;\n",
              "    }\n",
              "</style>\n",
              "<table border=\"1\" class=\"dataframe\">\n",
              "  <thead>\n",
              "    <tr style=\"text-align: right;\">\n",
              "      <th></th>\n",
              "      <th>encounter_id</th>\n",
              "      <th>patient_nbr</th>\n",
              "      <th>race</th>\n",
              "      <th>gender</th>\n",
              "      <th>age</th>\n",
              "      <th>weight</th>\n",
              "      <th>admission_type_id</th>\n",
              "      <th>discharge_disposition_id</th>\n",
              "    </tr>\n",
              "  </thead>\n",
              "  <tbody>\n",
              "    <tr>\n",
              "      <th>0</th>\n",
              "      <td>2278392</td>\n",
              "      <td>8222157</td>\n",
              "      <td>Caucasian</td>\n",
              "      <td>Female</td>\n",
              "      <td>[0-10)</td>\n",
              "      <td>?</td>\n",
              "      <td>6</td>\n",
              "      <td>25</td>\n",
              "    </tr>\n",
              "    <tr>\n",
              "      <th>1</th>\n",
              "      <td>149190</td>\n",
              "      <td>55629189</td>\n",
              "      <td>Caucasian</td>\n",
              "      <td>Female</td>\n",
              "      <td>[10-20)</td>\n",
              "      <td>?</td>\n",
              "      <td>1</td>\n",
              "      <td>1</td>\n",
              "    </tr>\n",
              "    <tr>\n",
              "      <th>2</th>\n",
              "      <td>64410</td>\n",
              "      <td>86047875</td>\n",
              "      <td>AfricanAmerican</td>\n",
              "      <td>Female</td>\n",
              "      <td>[20-30)</td>\n",
              "      <td>?</td>\n",
              "      <td>1</td>\n",
              "      <td>1</td>\n",
              "    </tr>\n",
              "    <tr>\n",
              "      <th>3</th>\n",
              "      <td>500364</td>\n",
              "      <td>82442376</td>\n",
              "      <td>Caucasian</td>\n",
              "      <td>Male</td>\n",
              "      <td>[30-40)</td>\n",
              "      <td>?</td>\n",
              "      <td>1</td>\n",
              "      <td>1</td>\n",
              "    </tr>\n",
              "    <tr>\n",
              "      <th>4</th>\n",
              "      <td>16680</td>\n",
              "      <td>42519267</td>\n",
              "      <td>Caucasian</td>\n",
              "      <td>Male</td>\n",
              "      <td>[40-50)</td>\n",
              "      <td>?</td>\n",
              "      <td>1</td>\n",
              "      <td>1</td>\n",
              "    </tr>\n",
              "  </tbody>\n",
              "</table>\n",
              "</div>"
            ],
            "text/plain": [
              "   encounter_id  patient_nbr             race  gender      age weight  \\\n",
              "0       2278392      8222157        Caucasian  Female   [0-10)      ?   \n",
              "1        149190     55629189        Caucasian  Female  [10-20)      ?   \n",
              "2         64410     86047875  AfricanAmerican  Female  [20-30)      ?   \n",
              "3        500364     82442376        Caucasian    Male  [30-40)      ?   \n",
              "4         16680     42519267        Caucasian    Male  [40-50)      ?   \n",
              "\n",
              "   admission_type_id  discharge_disposition_id  \n",
              "0                  6                        25  \n",
              "1                  1                         1  \n",
              "2                  1                         1  \n",
              "3                  1                         1  \n",
              "4                  1                         1  "
            ]
          },
          "execution_count": 3,
          "metadata": {},
          "output_type": "execute_result"
        }
      ],
      "source": [
        "data.iloc[:5, :8]"
      ]
    },
    {
      "cell_type": "code",
      "execution_count": null,
      "id": "applicable-montreal",
      "metadata": {
        "id": "applicable-montreal",
        "outputId": "aa93705c-9bed-43c4-a78a-39ce0c73a5e8"
      },
      "outputs": [
        {
          "data": {
            "text/plain": [
              "(101766, 50)"
            ]
          },
          "execution_count": 4,
          "metadata": {},
          "output_type": "execute_result"
        }
      ],
      "source": [
        "data.shape"
      ]
    },
    {
      "cell_type": "code",
      "execution_count": null,
      "id": "civic-startup",
      "metadata": {
        "id": "civic-startup",
        "outputId": "b14b0b7d-7103-4dbd-b894-9e0171239cb1"
      },
      "outputs": [
        {
          "data": {
            "text/plain": [
              "(71236, 15265)"
            ]
          },
          "execution_count": 5,
          "metadata": {},
          "output_type": "execute_result"
        }
      ],
      "source": [
        "train_len = int(len(data) * 0.7)\n",
        "\n",
        "test_len = (len(data) - train_len) // 2\n",
        "\n",
        "train_len, test_len"
      ]
    },
    {
      "cell_type": "code",
      "execution_count": null,
      "id": "designing-logistics",
      "metadata": {
        "id": "designing-logistics",
        "outputId": "b606612f-f451-4bfc-dc4d-2a5ac65f6de8"
      },
      "outputs": [
        {
          "data": {
            "text/plain": [
              "(71236, 15265, 15265)"
            ]
          },
          "execution_count": 6,
          "metadata": {},
          "output_type": "execute_result"
        }
      ],
      "source": [
        "train = data.iloc[:train_len].reset_index(drop = True)\n",
        "\n",
        "test = data.iloc[train_len:train_len + test_len].reset_index(drop = True)\n",
        "\n",
        "evaluate = data.iloc[train_len + test_len :].drop('readmitted', axis='columns').reset_index(drop = True)\n",
        "\n",
        "train.shape[0], test.shape[0], evaluate.shape[0]"
      ]
    },
    {
      "cell_type": "code",
      "execution_count": null,
      "id": "comparable-alabama",
      "metadata": {
        "id": "comparable-alabama"
      },
      "outputs": [],
      "source": [
        "import tensorflow_data_validation as tfdv\n",
        "\n",
        "deletes = ['encounter_id', 'patient_nbr']\n",
        "\n",
        "usecols = [col for col in data.columns if col not in deletes]"
      ]
    },
    {
      "cell_type": "code",
      "execution_count": null,
      "id": "varying-feature",
      "metadata": {
        "id": "varying-feature",
        "outputId": "dcd7aa79-e2b9-4bfa-ce6d-c896e7040ad0"
      },
      "outputs": [
        {
          "data": {
            "text/plain": [
              "48"
            ]
          },
          "execution_count": 8,
          "metadata": {},
          "output_type": "execute_result"
        }
      ],
      "source": [
        "stats_options = tfdv.StatsOptions(feature_allowlist=usecols)\n",
        "\n",
        "train_stats = tfdv.generate_statistics_from_dataframe(train, stats_options=stats_options)\n",
        "\n",
        "len(train_stats.datasets[0].features)"
      ]
    },
    {
      "cell_type": "code",
      "execution_count": null,
      "id": "textile-solid",
      "metadata": {
        "id": "textile-solid"
      },
      "outputs": [],
      "source": [
        "# tfdv.visualize_statistics(train_stats)"
      ]
    },
    {
      "cell_type": "code",
      "execution_count": null,
      "id": "recognized-governor",
      "metadata": {
        "id": "recognized-governor"
      },
      "outputs": [],
      "source": [
        "test_stats = tfdv.generate_statistics_from_dataframe(test, stats_options=stats_options)\n",
        "\n",
        "evaluate_stats = tfdv.generate_statistics_from_dataframe(evaluate, stats_options=stats_options)"
      ]
    },
    {
      "cell_type": "code",
      "execution_count": null,
      "id": "adult-stake",
      "metadata": {
        "id": "adult-stake"
      },
      "outputs": [],
      "source": [
        "schemas = tfdv.infer_schema(train_stats)\n",
        "\n",
        "# tfdv.display_schema(schemas)"
      ]
    },
    {
      "cell_type": "code",
      "execution_count": null,
      "id": "outstanding-combat",
      "metadata": {
        "id": "outstanding-combat"
      },
      "outputs": [],
      "source": [
        "assert len(schemas.feature) == len(train_stats.datasets[0].features), 'Fail !'"
      ]
    },
    {
      "cell_type": "code",
      "execution_count": null,
      "id": "bulgarian-hampshire",
      "metadata": {
        "id": "bulgarian-hampshire"
      },
      "outputs": [],
      "source": [
        "statlist = {}\n",
        "\n",
        "statlist['lhs_statistics'] = test_stats; statlist['lhs_name'] = 'Test'\n",
        "\n",
        "statlist['rhs_statistics'] = train_stats; statlist['rhs_name'] = 'Train'\n",
        "\n",
        "# tfdv.visualize_statistics(**statlist)"
      ]
    },
    {
      "cell_type": "code",
      "execution_count": null,
      "id": "sweet-wholesale",
      "metadata": {
        "id": "sweet-wholesale",
        "outputId": "188fde95-74f8-42fd-acf8-302468ca1db4"
      },
      "outputs": [
        {
          "data": {
            "text/plain": [
              "1"
            ]
          },
          "execution_count": 14,
          "metadata": {},
          "output_type": "execute_result"
        }
      ],
      "source": [
        "train[\"glimepiride-pioglitazone\"].nunique()"
      ]
    },
    {
      "cell_type": "code",
      "execution_count": null,
      "id": "fluid-detail",
      "metadata": {
        "id": "fluid-detail",
        "outputId": "01ea8516-74d3-4566-f507-f78165c7da03"
      },
      "outputs": [
        {
          "data": {
            "text/plain": [
              "2"
            ]
          },
          "execution_count": 15,
          "metadata": {},
          "output_type": "execute_result"
        }
      ],
      "source": [
        "test[\"glimepiride-pioglitazone\"].nunique()"
      ]
    },
    {
      "cell_type": "code",
      "execution_count": null,
      "id": "friendly-combination",
      "metadata": {
        "id": "friendly-combination",
        "outputId": "de5b5bf4-fd5a-4be5-bcd6-2deeb12fc924"
      },
      "outputs": [
        {
          "data": {
            "text/plain": [
              "1"
            ]
          },
          "execution_count": 16,
          "metadata": {},
          "output_type": "execute_result"
        }
      ],
      "source": [
        "evaluate[\"glimepiride-pioglitazone\"].nunique()"
      ]
    },
    {
      "cell_type": "code",
      "execution_count": null,
      "id": "legislative-motorcycle",
      "metadata": {
        "id": "legislative-motorcycle"
      },
      "outputs": [],
      "source": [
        "from tensorflow_data_validation import validate_statistics, display_anomalies\n",
        "\n",
        "def AnomaliesValidation(stats, schemas):\n",
        "  \"\"\"\n",
        "  TensorFlow Data Validation Anomalies Validation\n",
        "  \"\"\"\n",
        "  anomalies = validate_statistics(stats, schemas)\n",
        "\n",
        "  total = len(anomalies.anomaly_info.items())\n",
        "\n",
        "  if total == 0:\n",
        "\n",
        "    return total\n",
        "\n",
        "  display_anomalies(anomalies)"
      ]
    },
    {
      "cell_type": "code",
      "execution_count": null,
      "id": "facial-period",
      "metadata": {
        "scrolled": false,
        "id": "facial-period"
      },
      "outputs": [],
      "source": [
        "AnomaliesValidation(test_stats, schemas)"
      ]
    },
    {
      "cell_type": "markdown",
      "id": "fallen-legend",
      "metadata": {
        "id": "fallen-legend"
      },
      "source": [
        "`Glimepiride Pioglitazone`"
      ]
    },
    {
      "cell_type": "code",
      "execution_count": null,
      "id": "minus-sacrifice",
      "metadata": {
        "id": "minus-sacrifice",
        "outputId": "75a0b631-a65b-46b2-faa3-8693a9808eb6"
      },
      "outputs": [
        {
          "data": {
            "text/plain": [
              "['No']"
            ]
          },
          "execution_count": 19,
          "metadata": {},
          "output_type": "execute_result"
        }
      ],
      "source": [
        "glimepioglita_domain = tfdv.get_domain(schemas, 'glimepiride-pioglitazone')\n",
        "\n",
        "glimepioglita_domain.value"
      ]
    },
    {
      "cell_type": "code",
      "execution_count": null,
      "id": "bulgarian-sugar",
      "metadata": {
        "id": "bulgarian-sugar",
        "outputId": "5534fa01-cb30-4141-e54d-d2df1521e088"
      },
      "outputs": [
        {
          "data": {
            "text/plain": [
              "['No', 'Steady']"
            ]
          },
          "execution_count": 20,
          "metadata": {},
          "output_type": "execute_result"
        }
      ],
      "source": [
        "glimepioglita_domain.value.append('Steady')\n",
        "\n",
        "glimepioglita_domain.value"
      ]
    },
    {
      "cell_type": "markdown",
      "id": "specific-cardiff",
      "metadata": {
        "id": "specific-cardiff"
      },
      "source": [
        "`Medical Specialty`"
      ]
    },
    {
      "cell_type": "code",
      "execution_count": null,
      "id": "naked-lighting",
      "metadata": {
        "id": "naked-lighting"
      },
      "outputs": [],
      "source": [
        "medispeciality_domain = tfdv.get_domain(schemas, 'medical_specialty')\n",
        "\n",
        "assert 'Neurophysiology' not in medispeciality_domain.value, 'False !'"
      ]
    },
    {
      "cell_type": "code",
      "execution_count": null,
      "id": "naughty-birthday",
      "metadata": {
        "id": "naughty-birthday"
      },
      "outputs": [],
      "source": [
        "medispeciality_domain.value.append('Neurophysiology')\n",
        "\n",
        "assert 'Neurophysiology' in medispeciality_domain.value, 'False !'"
      ]
    },
    {
      "cell_type": "code",
      "execution_count": null,
      "id": "optional-ability",
      "metadata": {
        "id": "optional-ability",
        "outputId": "bf3228e3-d79a-4ef2-deea-5703e3897db5"
      },
      "outputs": [
        {
          "data": {
            "text/plain": [
              "0"
            ]
          },
          "execution_count": 23,
          "metadata": {},
          "output_type": "execute_result"
        }
      ],
      "source": [
        "AnomaliesValidation(test_stats, schemas)"
      ]
    },
    {
      "cell_type": "code",
      "execution_count": null,
      "id": "vocational-halifax",
      "metadata": {
        "id": "vocational-halifax"
      },
      "outputs": [],
      "source": [
        "AnomaliesValidation(evaluate_stats, schemas)"
      ]
    },
    {
      "cell_type": "code",
      "execution_count": null,
      "id": "specific-accent",
      "metadata": {
        "id": "specific-accent"
      },
      "outputs": [],
      "source": [
        "payer_code_feats = tfdv.get_feature(schemas, 'payer_code')\n",
        "\n",
        "payer_code_feats.distribution_constraints.min_domain_mass = 0.9"
      ]
    },
    {
      "cell_type": "code",
      "execution_count": null,
      "id": "moderate-bread",
      "metadata": {
        "id": "moderate-bread"
      },
      "outputs": [],
      "source": [
        "medical_specialty_feats = tfdv.get_feature(schemas, 'medical_specialty')\n",
        "\n",
        "medical_specialty_feats.distribution_constraints.min_domain_mass = 0.9"
      ]
    },
    {
      "cell_type": "code",
      "execution_count": null,
      "id": "accepted-google",
      "metadata": {
        "id": "accepted-google"
      },
      "outputs": [],
      "source": [
        "AnomaliesValidation(evaluate_stats, schemas)"
      ]
    },
    {
      "cell_type": "markdown",
      "id": "ambient-length",
      "metadata": {
        "id": "ambient-length"
      },
      "source": [
        "`Repaglinide`"
      ]
    },
    {
      "cell_type": "code",
      "execution_count": null,
      "id": "stylish-headline",
      "metadata": {
        "id": "stylish-headline"
      },
      "outputs": [],
      "source": [
        "repaloc = data.columns.get_loc('repaglinide')\n",
        "\n",
        "ln = 22\n",
        "\n",
        "cols_feats = data.columns.tolist()[repaloc : repaloc + ln]"
      ]
    },
    {
      "cell_type": "code",
      "execution_count": null,
      "id": "hearing-voluntary",
      "metadata": {
        "id": "hearing-voluntary"
      },
      "outputs": [],
      "source": [
        "import logging\n",
        "\n",
        "logging.getLogger().setLevel(logging.ERROR)\n",
        "\n",
        "for col in cols_feats:\n",
        "\n",
        "    tfdv.set_domain(schemas, col, 'metformin')"
      ]
    },
    {
      "cell_type": "code",
      "execution_count": null,
      "id": "cardiac-timing",
      "metadata": {
        "scrolled": true,
        "id": "cardiac-timing"
      },
      "outputs": [],
      "source": [
        "AnomaliesValidation(evaluate_stats, schemas)"
      ]
    },
    {
      "cell_type": "code",
      "execution_count": null,
      "id": "fitted-committee",
      "metadata": {
        "id": "fitted-committee"
      },
      "outputs": [],
      "source": [
        "schemas.default_environment.append('TRAINING')\n",
        "\n",
        "schemas.default_environment.append('SERVING')"
      ]
    },
    {
      "cell_type": "code",
      "execution_count": null,
      "id": "floating-mileage",
      "metadata": {
        "id": "floating-mileage"
      },
      "outputs": [],
      "source": [
        "tfdv.get_feature(schemas, 'readmitted').not_in_environment.append('SERVING')"
      ]
    },
    {
      "cell_type": "code",
      "execution_count": null,
      "id": "advisory-antigua",
      "metadata": {
        "id": "advisory-antigua",
        "outputId": "b771e18d-9df2-4986-e21d-a7ebc496f59b"
      },
      "outputs": [
        {
          "data": {
            "text/plain": [
              "0"
            ]
          },
          "execution_count": 33,
          "metadata": {},
          "output_type": "execute_result"
        }
      ],
      "source": [
        "anomalies_serving = tfdv.validate_statistics(evaluate_stats, schemas, environment='SERVING')\n",
        "\n",
        "len(anomalies_serving.anomaly_info.items())"
      ]
    }
  ],
  "metadata": {
    "kernelspec": {
      "display_name": "Python 3",
      "language": "python",
      "name": "python3"
    },
    "language_info": {
      "codemirror_mode": {
        "name": "ipython",
        "version": 3
      },
      "file_extension": ".py",
      "mimetype": "text/x-python",
      "name": "python",
      "nbconvert_exporter": "python",
      "pygments_lexer": "ipython3",
      "version": "3.8.8"
    },
    "colab": {
      "provenance": [],
      "include_colab_link": true
    }
  },
  "nbformat": 4,
  "nbformat_minor": 5
}