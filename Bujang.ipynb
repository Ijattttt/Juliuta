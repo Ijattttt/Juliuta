{
 "cells": [
  {
   "cell_type": "code",
   "execution_count": 1,
   "id": "alleged-queensland",
   "metadata": {},
   "outputs": [
    {
     "data": {
      "text/plain": [
       "(32561, 15)"
      ]
     },
     "execution_count": 1,
     "metadata": {},
     "output_type": "execute_result"
    }
   ],
   "source": [
    "import pandas\n",
    "\n",
    "from util import add_extra_rows\n",
    "\n",
    "tableurl = 'data/adult.data'\n",
    "\n",
    "table = pandas.read_table(tableurl, sep=',', skipinitialspace=True)\n",
    "\n",
    "table.shape"
   ]
  },
  {
   "cell_type": "code",
   "execution_count": 2,
   "id": "interstate-dictionary",
   "metadata": {},
   "outputs": [
    {
     "data": {
      "text/html": [
       "<div>\n",
       "<style scoped>\n",
       "    .dataframe tbody tr th:only-of-type {\n",
       "        vertical-align: middle;\n",
       "    }\n",
       "\n",
       "    .dataframe tbody tr th {\n",
       "        vertical-align: top;\n",
       "    }\n",
       "\n",
       "    .dataframe thead th {\n",
       "        text-align: right;\n",
       "    }\n",
       "</style>\n",
       "<table border=\"1\" class=\"dataframe\">\n",
       "  <thead>\n",
       "    <tr style=\"text-align: right;\">\n",
       "      <th></th>\n",
       "      <th>age</th>\n",
       "      <th>workclass</th>\n",
       "      <th>fnlwgt</th>\n",
       "      <th>education</th>\n",
       "      <th>education-num</th>\n",
       "      <th>marital-status</th>\n",
       "      <th>occupation</th>\n",
       "    </tr>\n",
       "  </thead>\n",
       "  <tbody>\n",
       "    <tr>\n",
       "      <th>0</th>\n",
       "      <td>39</td>\n",
       "      <td>State-gov</td>\n",
       "      <td>77516</td>\n",
       "      <td>Bachelors</td>\n",
       "      <td>13</td>\n",
       "      <td>Never-married</td>\n",
       "      <td>Adm-clerical</td>\n",
       "    </tr>\n",
       "    <tr>\n",
       "      <th>1</th>\n",
       "      <td>50</td>\n",
       "      <td>Self-emp-not-inc</td>\n",
       "      <td>83311</td>\n",
       "      <td>Bachelors</td>\n",
       "      <td>13</td>\n",
       "      <td>Married-civ-spouse</td>\n",
       "      <td>Exec-managerial</td>\n",
       "    </tr>\n",
       "    <tr>\n",
       "      <th>2</th>\n",
       "      <td>38</td>\n",
       "      <td>Private</td>\n",
       "      <td>215646</td>\n",
       "      <td>HS-grad</td>\n",
       "      <td>9</td>\n",
       "      <td>Divorced</td>\n",
       "      <td>Handlers-cleaners</td>\n",
       "    </tr>\n",
       "    <tr>\n",
       "      <th>3</th>\n",
       "      <td>53</td>\n",
       "      <td>Private</td>\n",
       "      <td>234721</td>\n",
       "      <td>11th</td>\n",
       "      <td>7</td>\n",
       "      <td>Married-civ-spouse</td>\n",
       "      <td>Handlers-cleaners</td>\n",
       "    </tr>\n",
       "    <tr>\n",
       "      <th>4</th>\n",
       "      <td>28</td>\n",
       "      <td>Private</td>\n",
       "      <td>338409</td>\n",
       "      <td>Bachelors</td>\n",
       "      <td>13</td>\n",
       "      <td>Married-civ-spouse</td>\n",
       "      <td>Prof-specialty</td>\n",
       "    </tr>\n",
       "  </tbody>\n",
       "</table>\n",
       "</div>"
      ],
      "text/plain": [
       "   age         workclass  fnlwgt  education  education-num  \\\n",
       "0   39         State-gov   77516  Bachelors             13   \n",
       "1   50  Self-emp-not-inc   83311  Bachelors             13   \n",
       "2   38           Private  215646    HS-grad              9   \n",
       "3   53           Private  234721       11th              7   \n",
       "4   28           Private  338409  Bachelors             13   \n",
       "\n",
       "       marital-status         occupation  \n",
       "0       Never-married       Adm-clerical  \n",
       "1  Married-civ-spouse    Exec-managerial  \n",
       "2            Divorced  Handlers-cleaners  \n",
       "3  Married-civ-spouse  Handlers-cleaners  \n",
       "4  Married-civ-spouse     Prof-specialty  "
      ]
     },
     "execution_count": 2,
     "metadata": {},
     "output_type": "execute_result"
    }
   ],
   "source": [
    "table.iloc[:5, :7]"
   ]
  },
  {
   "cell_type": "code",
   "execution_count": 3,
   "id": "developmental-throw",
   "metadata": {},
   "outputs": [
    {
     "data": {
      "text/html": [
       "<div>\n",
       "<style scoped>\n",
       "    .dataframe tbody tr th:only-of-type {\n",
       "        vertical-align: middle;\n",
       "    }\n",
       "\n",
       "    .dataframe tbody tr th {\n",
       "        vertical-align: top;\n",
       "    }\n",
       "\n",
       "    .dataframe thead th {\n",
       "        text-align: right;\n",
       "    }\n",
       "</style>\n",
       "<table border=\"1\" class=\"dataframe\">\n",
       "  <thead>\n",
       "    <tr style=\"text-align: right;\">\n",
       "      <th></th>\n",
       "      <th>relationship</th>\n",
       "      <th>race</th>\n",
       "      <th>sex</th>\n",
       "      <th>capital-gain</th>\n",
       "      <th>capital-loss</th>\n",
       "      <th>hours-per-week</th>\n",
       "      <th>native-country</th>\n",
       "      <th>label</th>\n",
       "    </tr>\n",
       "  </thead>\n",
       "  <tbody>\n",
       "    <tr>\n",
       "      <th>0</th>\n",
       "      <td>Not-in-family</td>\n",
       "      <td>White</td>\n",
       "      <td>Male</td>\n",
       "      <td>2174</td>\n",
       "      <td>0</td>\n",
       "      <td>40</td>\n",
       "      <td>United-States</td>\n",
       "      <td>&lt;=50K</td>\n",
       "    </tr>\n",
       "    <tr>\n",
       "      <th>1</th>\n",
       "      <td>Husband</td>\n",
       "      <td>White</td>\n",
       "      <td>Male</td>\n",
       "      <td>0</td>\n",
       "      <td>0</td>\n",
       "      <td>13</td>\n",
       "      <td>United-States</td>\n",
       "      <td>&lt;=50K</td>\n",
       "    </tr>\n",
       "    <tr>\n",
       "      <th>2</th>\n",
       "      <td>Not-in-family</td>\n",
       "      <td>White</td>\n",
       "      <td>Male</td>\n",
       "      <td>0</td>\n",
       "      <td>0</td>\n",
       "      <td>40</td>\n",
       "      <td>United-States</td>\n",
       "      <td>&lt;=50K</td>\n",
       "    </tr>\n",
       "    <tr>\n",
       "      <th>3</th>\n",
       "      <td>Husband</td>\n",
       "      <td>Black</td>\n",
       "      <td>Male</td>\n",
       "      <td>0</td>\n",
       "      <td>0</td>\n",
       "      <td>40</td>\n",
       "      <td>United-States</td>\n",
       "      <td>&lt;=50K</td>\n",
       "    </tr>\n",
       "    <tr>\n",
       "      <th>4</th>\n",
       "      <td>Wife</td>\n",
       "      <td>Black</td>\n",
       "      <td>Female</td>\n",
       "      <td>0</td>\n",
       "      <td>0</td>\n",
       "      <td>40</td>\n",
       "      <td>Cuba</td>\n",
       "      <td>&lt;=50K</td>\n",
       "    </tr>\n",
       "  </tbody>\n",
       "</table>\n",
       "</div>"
      ],
      "text/plain": [
       "    relationship   race     sex  capital-gain  capital-loss  hours-per-week  \\\n",
       "0  Not-in-family  White    Male          2174             0              40   \n",
       "1        Husband  White    Male             0             0              13   \n",
       "2  Not-in-family  White    Male             0             0              40   \n",
       "3        Husband  Black    Male             0             0              40   \n",
       "4           Wife  Black  Female             0             0              40   \n",
       "\n",
       "  native-country  label  \n",
       "0  United-States  <=50K  \n",
       "1  United-States  <=50K  \n",
       "2  United-States  <=50K  \n",
       "3  United-States  <=50K  \n",
       "4           Cuba  <=50K  "
      ]
     },
     "execution_count": 3,
     "metadata": {},
     "output_type": "execute_result"
    }
   ],
   "source": [
    "table.iloc[:5, 7:]"
   ]
  },
  {
   "cell_type": "code",
   "execution_count": 4,
   "id": "wired-stranger",
   "metadata": {},
   "outputs": [
    {
     "data": {
      "text/plain": [
       "0"
      ]
     },
     "execution_count": 4,
     "metadata": {},
     "output_type": "execute_result"
    }
   ],
   "source": [
    "null = table.isnull().sum()\n",
    "\n",
    "null.sum()"
   ]
  },
  {
   "cell_type": "code",
   "execution_count": 5,
   "id": "funded-offset",
   "metadata": {},
   "outputs": [],
   "source": [
    "from sklearn.model_selection import train_test_split\n",
    "\n",
    "test_size = 0.2\n",
    "\n",
    "train, test = train_test_split(table, test_size=test_size, shuffle=False)"
   ]
  },
  {
   "cell_type": "code",
   "execution_count": 6,
   "id": "sudden-association",
   "metadata": {},
   "outputs": [],
   "source": [
    "sample = add_extra_rows(test)\n",
    "\n",
    "assert sample.shape[0] == test.shape[0] + 4, 'Fail !'"
   ]
  },
  {
   "cell_type": "code",
   "execution_count": 7,
   "id": "opened-excitement",
   "metadata": {},
   "outputs": [],
   "source": [
    "assert train.isnull().sum().sum() == test.isnull().sum().sum(), 'Fail !'"
   ]
  },
  {
   "cell_type": "code",
   "execution_count": 8,
   "id": "egyptian-keyboard",
   "metadata": {},
   "outputs": [],
   "source": [
    "from tensorflow_data_validation import generate_statistics_from_dataframe\n",
    "\n",
    "from tensorflow_data_validation import visualize_statistics\n",
    "\n",
    "train_stats = generate_statistics_from_dataframe(train)\n",
    "\n",
    "# visualize_statistics(train_stats)"
   ]
  },
  {
   "cell_type": "code",
   "execution_count": 9,
   "id": "disabled-sunrise",
   "metadata": {},
   "outputs": [],
   "source": [
    "test_stats = generate_statistics_from_dataframe(test)\n",
    "\n",
    "# visualize_statistics(test)"
   ]
  },
  {
   "cell_type": "code",
   "execution_count": 10,
   "id": "restricted-combat",
   "metadata": {},
   "outputs": [],
   "source": [
    "sample_stats = generate_statistics_from_dataframe(sample)\n",
    "\n",
    "# visualize_statistics(sample_stats)"
   ]
  },
  {
   "cell_type": "code",
   "execution_count": 11,
   "id": "contrary-boston",
   "metadata": {},
   "outputs": [],
   "source": [
    "statlist = {}\n",
    "\n",
    "statlist['lhs_statistics'] = train_stats; statlist['lhs_name'] = 'Train'\n",
    "\n",
    "statlist['rhs_statistics'] = test_stats; statlist['rhs_name'] = 'Test'\n",
    "\n",
    "# visualize_statistics(**statlist)"
   ]
  },
  {
   "cell_type": "code",
   "execution_count": 12,
   "id": "casual-sarah",
   "metadata": {},
   "outputs": [],
   "source": [
    "statlist = {}\n",
    "\n",
    "statlist['lhs_statistics'] = sample_stats; statlist['lhs_name'] = 'Sample'\n",
    "\n",
    "statlist['rhs_statistics'] = test_stats; statlist['rhs_name'] = 'Test'\n",
    "\n",
    "# visualize_statistics(**statlist)"
   ]
  },
  {
   "cell_type": "code",
   "execution_count": 13,
   "id": "remarkable-religion",
   "metadata": {},
   "outputs": [
    {
     "data": {
      "text/plain": [
       "[17, 90]"
      ]
     },
     "execution_count": 13,
     "metadata": {},
     "output_type": "execute_result"
    }
   ],
   "source": [
    "lower = sample['age'] > 16\n",
    "\n",
    "upper = sample['age'] < 91\n",
    "\n",
    "sample = sample[lower & upper]\n",
    "\n",
    "sample = sample.dropna()\n",
    "\n",
    "[sample.age.min(), sample.age.max()]"
   ]
  },
  {
   "cell_type": "code",
   "execution_count": 14,
   "id": "arranged-cincinnati",
   "metadata": {},
   "outputs": [],
   "source": [
    "sample_stats = generate_statistics_from_dataframe(sample)\n",
    "\n",
    "statlist['lhs_statistics'] = sample_stats; statlist['lhs_name'] = 'Sample'\n",
    "\n",
    "statlist['rhs_statistics'] = test_stats; statlist['rhs_name'] = 'Test'\n",
    "\n",
    "# visualize_statistics(**statlist)"
   ]
  },
  {
   "cell_type": "markdown",
   "id": "creative-occupation",
   "metadata": {},
   "source": [
    "---"
   ]
  },
  {
   "cell_type": "code",
   "execution_count": 15,
   "id": "opposite-drill",
   "metadata": {},
   "outputs": [],
   "source": [
    "import tensorflow_data_validation as tfdv\n",
    "\n",
    "schemas = tfdv.infer_schema(train_stats)\n",
    "\n",
    "# tfdv.display_schema(schemas)"
   ]
  },
  {
   "cell_type": "markdown",
   "id": "congressional-numbers",
   "metadata": {},
   "source": [
    "---"
   ]
  },
  {
   "cell_type": "code",
   "execution_count": 16,
   "id": "affiliated-buddy",
   "metadata": {},
   "outputs": [
    {
     "data": {
      "text/plain": [
       "0"
      ]
     },
     "execution_count": 16,
     "metadata": {},
     "output_type": "execute_result"
    }
   ],
   "source": [
    "anomalies = tfdv.validate_statistics(test_stats, schemas)\n",
    "\n",
    "len(anomalies.anomaly_info.items())"
   ]
  },
  {
   "cell_type": "code",
   "execution_count": 17,
   "id": "charged-commons",
   "metadata": {},
   "outputs": [
    {
     "data": {
      "text/plain": [
       "3"
      ]
     },
     "execution_count": 17,
     "metadata": {},
     "output_type": "execute_result"
    }
   ],
   "source": [
    "anomalies = tfdv.validate_statistics(sample_stats, schemas)\n",
    "\n",
    "len(anomalies.anomaly_info.items())"
   ]
  },
  {
   "cell_type": "code",
   "execution_count": 18,
   "id": "annoying-chrome",
   "metadata": {},
   "outputs": [
    {
     "data": {
      "text/html": [
       "<div>\n",
       "<style scoped>\n",
       "    .dataframe tbody tr th:only-of-type {\n",
       "        vertical-align: middle;\n",
       "    }\n",
       "\n",
       "    .dataframe tbody tr th {\n",
       "        vertical-align: top;\n",
       "    }\n",
       "\n",
       "    .dataframe thead th {\n",
       "        text-align: right;\n",
       "    }\n",
       "</style>\n",
       "<table border=\"1\" class=\"dataframe\">\n",
       "  <thead>\n",
       "    <tr style=\"text-align: right;\">\n",
       "      <th></th>\n",
       "      <th>Anomaly short description</th>\n",
       "      <th>Anomaly long description</th>\n",
       "    </tr>\n",
       "    <tr>\n",
       "      <th>Feature name</th>\n",
       "      <th></th>\n",
       "      <th></th>\n",
       "    </tr>\n",
       "  </thead>\n",
       "  <tbody>\n",
       "    <tr>\n",
       "      <th>'occupation'</th>\n",
       "      <td>Unexpected string values</td>\n",
       "      <td>Examples contain values missing from the schema: Gamer (&lt;1%).</td>\n",
       "    </tr>\n",
       "    <tr>\n",
       "      <th>'race'</th>\n",
       "      <td>Unexpected string values</td>\n",
       "      <td>Examples contain values missing from the schema: Asian (&lt;1%).</td>\n",
       "    </tr>\n",
       "    <tr>\n",
       "      <th>'native-country'</th>\n",
       "      <td>Unexpected string values</td>\n",
       "      <td>Examples contain values missing from the schema: Mongolia (&lt;1%).</td>\n",
       "    </tr>\n",
       "  </tbody>\n",
       "</table>\n",
       "</div>"
      ],
      "text/plain": [
       "                 Anomaly short description  \\\n",
       "Feature name                                 \n",
       "'occupation'      Unexpected string values   \n",
       "'race'            Unexpected string values   \n",
       "'native-country'  Unexpected string values   \n",
       "\n",
       "                                                           Anomaly long description  \n",
       "Feature name                                                                         \n",
       "'occupation'      Examples contain values missing from the schema: Gamer (<1%).      \n",
       "'race'            Examples contain values missing from the schema: Asian (<1%).      \n",
       "'native-country'  Examples contain values missing from the schema: Mongolia (<1%).   "
      ]
     },
     "metadata": {},
     "output_type": "display_data"
    }
   ],
   "source": [
    "tfdv.display_anomalies(anomalies)"
   ]
  }
 ],
 "metadata": {
  "kernelspec": {
   "display_name": "Python 3",
   "language": "python",
   "name": "python3"
  },
  "language_info": {
   "codemirror_mode": {
    "name": "ipython",
    "version": 3
   },
   "file_extension": ".py",
   "mimetype": "text/x-python",
   "name": "python",
   "nbconvert_exporter": "python",
   "pygments_lexer": "ipython3",
   "version": "3.8.8"
  }
 },
 "nbformat": 4,
 "nbformat_minor": 5
}
